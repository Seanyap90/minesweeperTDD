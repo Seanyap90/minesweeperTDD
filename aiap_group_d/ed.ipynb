{
 "cells": [
  {
   "cell_type": "code",
   "execution_count": 1,
   "metadata": {},
   "outputs": [
    {
     "name": "stdout",
     "output_type": "stream",
     "text": [
      "--2025-01-18 08:37:07--  https://techassessment.blob.core.windows.net/aiap19-group-exercise-data/price.db\n",
      "Resolving techassessment.blob.core.windows.net (techassessment.blob.core.windows.net)... 20.150.28.132\n",
      "Connecting to techassessment.blob.core.windows.net (techassessment.blob.core.windows.net)|20.150.28.132|:443... connected.\n",
      "HTTP request sent, awaiting response... 200 OK\n",
      "Length: 1695744 (1.6M) [application/octet-stream]\n",
      "Saving to: ‘price.db’\n",
      "\n",
      "price.db            100%[===================>]   1.62M  --.-KB/s    in 0.09s   \n",
      "\n",
      "2025-01-18 08:37:07 (18.2 MB/s) - ‘price.db’ saved [1695744/1695744]\n",
      "\n"
     ]
    }
   ],
   "source": [
    "!wget https://techassessment.blob.core.windows.net/aiap19-group-exercise-data/price.db"
   ]
  },
  {
   "cell_type": "code",
   "execution_count": 2,
   "metadata": {},
   "outputs": [],
   "source": [
    "import pandas as pd\n",
    "import numpy as np\n",
    "import sqlite3"
   ]
  },
  {
   "cell_type": "code",
   "execution_count": 3,
   "metadata": {},
   "outputs": [
    {
     "name": "stdout",
     "output_type": "stream",
     "text": [
      "         name\n",
      "0  vegetables\n"
     ]
    }
   ],
   "source": [
    "# Path to database file\n",
    "db_file = \"price.db\"\n",
    "\n",
    "# Connect to the SQLite database\n",
    "conn = sqlite3.connect(db_file)\n",
    "\n",
    "# List all tables (optional, to see what's inside the database)\n",
    "query = \"SELECT name FROM sqlite_master WHERE type='table';\"\n",
    "tables = pd.read_sql(query, conn)\n",
    "print(tables)"
   ]
  },
  {
   "cell_type": "code",
   "execution_count": 4,
   "metadata": {},
   "outputs": [
    {
     "data": {
      "text/html": [
       "<div>\n",
       "<style scoped>\n",
       "    .dataframe tbody tr th:only-of-type {\n",
       "        vertical-align: middle;\n",
       "    }\n",
       "\n",
       "    .dataframe tbody tr th {\n",
       "        vertical-align: top;\n",
       "    }\n",
       "\n",
       "    .dataframe thead th {\n",
       "        text-align: right;\n",
       "    }\n",
       "</style>\n",
       "<table border=\"1\" class=\"dataframe\">\n",
       "  <thead>\n",
       "    <tr style=\"text-align: right;\">\n",
       "      <th></th>\n",
       "      <th>SN</th>\n",
       "      <th>Commodity</th>\n",
       "      <th>Unit</th>\n",
       "      <th>Date</th>\n",
       "      <th>Wholesale Market Prices</th>\n",
       "    </tr>\n",
       "  </thead>\n",
       "  <tbody>\n",
       "    <tr>\n",
       "      <th>0</th>\n",
       "      <td>0</td>\n",
       "      <td>Zucchini</td>\n",
       "      <td>Kg</td>\n",
       "      <td>2016-06-16 00:00:00</td>\n",
       "      <td>37.5</td>\n",
       "    </tr>\n",
       "    <tr>\n",
       "      <th>1</th>\n",
       "      <td>1</td>\n",
       "      <td>Zucchini</td>\n",
       "      <td>Kg</td>\n",
       "      <td>2016-06-16 00:00:00</td>\n",
       "      <td>29.0</td>\n",
       "    </tr>\n",
       "    <tr>\n",
       "      <th>2</th>\n",
       "      <td>2</td>\n",
       "      <td>Artichoke</td>\n",
       "      <td>Kg</td>\n",
       "      <td>2016-06-16 00:00:00</td>\n",
       "      <td>20.5</td>\n",
       "    </tr>\n",
       "    <tr>\n",
       "      <th>3</th>\n",
       "      <td>3</td>\n",
       "      <td>Artichoke</td>\n",
       "      <td>Kg</td>\n",
       "      <td>2016-06-16 00:00:00</td>\n",
       "      <td>15.5</td>\n",
       "    </tr>\n",
       "    <tr>\n",
       "      <th>4</th>\n",
       "      <td>4</td>\n",
       "      <td>Kale</td>\n",
       "      <td>Kg</td>\n",
       "      <td>2016-06-16 00:00:00</td>\n",
       "      <td>29.0</td>\n",
       "    </tr>\n",
       "    <tr>\n",
       "      <th>...</th>\n",
       "      <td>...</td>\n",
       "      <td>...</td>\n",
       "      <td>...</td>\n",
       "      <td>...</td>\n",
       "      <td>...</td>\n",
       "    </tr>\n",
       "    <tr>\n",
       "      <th>35056</th>\n",
       "      <td>88578</td>\n",
       "      <td>Celeriac</td>\n",
       "      <td>Kg</td>\n",
       "      <td>2020-03-10 00:00:00</td>\n",
       "      <td>275.0</td>\n",
       "    </tr>\n",
       "    <tr>\n",
       "      <th>35057</th>\n",
       "      <td>88579</td>\n",
       "      <td>Celeriac</td>\n",
       "      <td>Kg</td>\n",
       "      <td>2020-03-10 00:00:00</td>\n",
       "      <td>67.5</td>\n",
       "    </tr>\n",
       "    <tr>\n",
       "      <th>35058</th>\n",
       "      <td>88580</td>\n",
       "      <td>Salsify</td>\n",
       "      <td>Kg</td>\n",
       "      <td>2020-03-10 00:00:00</td>\n",
       "      <td>67.5</td>\n",
       "    </tr>\n",
       "    <tr>\n",
       "      <th>35059</th>\n",
       "      <td>88581</td>\n",
       "      <td>Chayote</td>\n",
       "      <td>Kg</td>\n",
       "      <td>2020-03-10 00:00:00</td>\n",
       "      <td>55.0</td>\n",
       "    </tr>\n",
       "    <tr>\n",
       "      <th>35060</th>\n",
       "      <td>88583</td>\n",
       "      <td>Chayote</td>\n",
       "      <td>Kg</td>\n",
       "      <td>2020-03-10 00:00:00</td>\n",
       "      <td>305.0</td>\n",
       "    </tr>\n",
       "  </tbody>\n",
       "</table>\n",
       "<p>35061 rows × 5 columns</p>\n",
       "</div>"
      ],
      "text/plain": [
       "          SN  Commodity Unit                 Date  Wholesale Market Prices\n",
       "0          0   Zucchini   Kg  2016-06-16 00:00:00                     37.5\n",
       "1          1   Zucchini   Kg  2016-06-16 00:00:00                     29.0\n",
       "2          2  Artichoke   Kg  2016-06-16 00:00:00                     20.5\n",
       "3          3  Artichoke   Kg  2016-06-16 00:00:00                     15.5\n",
       "4          4       Kale   Kg  2016-06-16 00:00:00                     29.0\n",
       "...      ...        ...  ...                  ...                      ...\n",
       "35056  88578   Celeriac   Kg  2020-03-10 00:00:00                    275.0\n",
       "35057  88579   Celeriac   Kg  2020-03-10 00:00:00                     67.5\n",
       "35058  88580    Salsify   Kg  2020-03-10 00:00:00                     67.5\n",
       "35059  88581    Chayote   Kg  2020-03-10 00:00:00                     55.0\n",
       "35060  88583    Chayote   Kg  2020-03-10 00:00:00                    305.0\n",
       "\n",
       "[35061 rows x 5 columns]"
      ]
     },
     "execution_count": 4,
     "metadata": {},
     "output_type": "execute_result"
    }
   ],
   "source": [
    "table_name = \"vegetables\"  # Change this after identifying the table\n",
    "data_query = f\"SELECT * FROM {table_name}\"\n",
    "df = pd.read_sql(data_query, conn)\n",
    "df"
   ]
  }
 ],
 "metadata": {
  "kernelspec": {
   "display_name": "aiapvenv",
   "language": "python",
   "name": "python3"
  },
  "language_info": {
   "codemirror_mode": {
    "name": "ipython",
    "version": 3
   },
   "file_extension": ".py",
   "mimetype": "text/x-python",
   "name": "python",
   "nbconvert_exporter": "python",
   "pygments_lexer": "ipython3",
   "version": "3.12.3"
  }
 },
 "nbformat": 4,
 "nbformat_minor": 2
}
